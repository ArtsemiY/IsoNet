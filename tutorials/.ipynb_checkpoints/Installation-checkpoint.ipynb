{
 "cells": [
  {
   "cell_type": "markdown",
   "metadata": {},
   "source": [
    "## Installation\n",
    "\n",
    "MWR relies on keras which build on top of tensorflow.\n",
    "Please make sure your tensorflow version is compatible to your cuda.\n",
    "\n",
    "\n",
    "\n",
    "\n",
    "Use the package manager [pip](https://) to install foobar.\n",
    "\n",
    "```bash\n",
    "pip install \n",
    "```\n"
   ]
  }
 ],
 "metadata": {
  "kernelspec": {
   "display_name": "Python 3",
   "language": "python",
   "name": "python3"
  },
  "language_info": {
   "codemirror_mode": {
    "name": "ipython",
    "version": 3
   },
   "file_extension": ".py",
   "mimetype": "text/x-python",
   "name": "python",
   "nbconvert_exporter": "python",
   "pygments_lexer": "ipython3",
   "version": "3.7.4"
  }
 },
 "nbformat": 4,
 "nbformat_minor": 2
}
