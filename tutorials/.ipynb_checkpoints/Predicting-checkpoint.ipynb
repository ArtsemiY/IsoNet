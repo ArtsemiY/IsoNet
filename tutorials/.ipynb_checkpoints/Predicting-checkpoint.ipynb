{
 "cells": [
  {
   "cell_type": "markdown",
   "metadata": {},
   "source": [
    "## Predict\n",
    "This step applies the already trained network to the tomogram in order to correct the missing wedge of that tomogram. The trained network can either be the network downloaded from the pretrained network in xxpath or the trained network using the user’s data. To fit the tomogram into the GPU memory, the entire tomogram is divided into multiple tiles for the missing wedge correction. The xx should be larger than xx in the prediction. This is the Overlap Tile Strategy to prevent the artifact during the montaging the tiles.  "
   ]
  },
  {
   "cell_type": "code",
   "execution_count": 2,
   "metadata": {},
   "outputs": [
    {
     "name": "stderr",
     "output_type": "stream",
     "text": [
      "INFO: Showing help with the command 'mwr_cli.py predict -- --help'.\n",
      "\n",
      "\u001b[1mNAME\u001b[0m\n",
      "    mwr_cli.py predict - Predict tomograms using trained model including model.json and weight(xxx.h5)\n",
      "\n",
      "\u001b[1mSYNOPSIS\u001b[0m\n",
      "    mwr_cli.py predict \u001b[4mMRC_FILE\u001b[0m \u001b[4mOUTPUT_FILE\u001b[0m \u001b[4mMODEL\u001b[0m <flags>\n",
      "\n",
      "\u001b[1mDESCRIPTION\u001b[0m\n",
      "    Predict tomograms using trained model including model.json and weight(xxx.h5)\n",
      "\n",
      "\u001b[1mPOSITIONAL ARGUMENTS\u001b[0m\n",
      "    \u001b[1m\u001b[4mMRC_FILE\u001b[0m\u001b[0m\n",
      "        path to tomogram, format: .mwr or .rec\n",
      "    \u001b[1m\u001b[4mOUTPUT_FILE\u001b[0m\u001b[0m\n",
      "        file_name of predicted tomograms\n",
      "    \u001b[1m\u001b[4mMODEL\u001b[0m\u001b[0m\n",
      "        path to trained model\n",
      "\n",
      "\u001b[1mFLAGS\u001b[0m\n",
      "    --gpuID=\u001b[4mGPUID\u001b[0m\n",
      "        (0,1,2,3) The gpuID to used during the training. e.g 0,1,2,3.\n",
      "    --cube_size=\u001b[4mCUBE_SIZE\u001b[0m\n",
      "        (64) The tomogram is divided into cubes to predict due to the memory limitation of GPUs.\n",
      "    --crop_size=\u001b[4mCROP_SIZE\u001b[0m\n",
      "        (96) The side-length of cubes cropping from tomogram in an overlapping strategy\n",
      "    --batchsize=\u001b[4mBATCHSIZE\u001b[0m\n",
      "        The batch size of the cubes grouped into for network predicting\n",
      "    --norm=\u001b[4mNORM\u001b[0m\n",
      "        (True) if normalize the tomograms by percentile\n",
      "    --log_level=\u001b[4mLOG_LEVEL\u001b[0m\n",
      "        (\"debug\") level of message to be displayed\n",
      "\n",
      "\u001b[1mNOTES\u001b[0m\n",
      "    You can also use flags syntax for POSITIONAL ARGUMENTS\n"
     ]
    }
   ],
   "source": [
    "%%bash\n",
    "mwr_cli.py predict -h"
   ]
  },
  {
   "cell_type": "markdown",
   "metadata": {},
   "source": [
    "The input **mrc_file** can be the exact tomograms used for training or other tomograms which are of the similar content and imaging condition. Because the neural networks learn to restore information based on the features in training data, similar tomograms can share common trained networks. And for the same reason. The **model** file can be model trained on the input tomograms or other pretrained model.\n",
    "The **cube_size** and **crop_size** are suggested to be consistent with the training settings."
   ]
  },
  {
   "cell_type": "code",
   "execution_count": null,
   "metadata": {},
   "outputs": [],
   "source": [
    "mwr_cli.py predict ./tomo/pp676-bin4-wbp.rec pp676-bin4-wbp-iter24.rec results/model_iter24.h5 --gpuID 4,5,6,7"
   ]
  }
 ],
 "metadata": {
  "kernelspec": {
   "display_name": "Python 3",
   "language": "python",
   "name": "python3"
  },
  "language_info": {
   "codemirror_mode": {
    "name": "ipython",
    "version": 3
   },
   "file_extension": ".py",
   "mimetype": "text/x-python",
   "name": "python",
   "nbconvert_exporter": "python",
   "pygments_lexer": "ipython3",
   "version": "3.6.5"
  }
 },
 "nbformat": 4,
 "nbformat_minor": 2
}
