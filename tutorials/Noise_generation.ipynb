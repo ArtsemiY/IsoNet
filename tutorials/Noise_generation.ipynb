{
 "cells": [
  {
   "cell_type": "markdown",
   "metadata": {},
   "source": [
    "## Noise Generation\n",
    "To help accelerate the missing wedge information retrieval, some artificial noise, which mimics the noise pattern in original tomograph, can be added to the sub-tomograms. \n",
    "Noise cubes are 3d arrays and also exhibit missing wedge effect along y axis"
   ]
  },
  {
   "cell_type": "markdown",
   "metadata": {},
   "source": [
    "### Recommanded parameters\n",
    "The size of noise cubes have to be the same as subtomograms' in the training data, usually 64 for bin4 data and 96 or 128 for bin2 data.The default tilts' angle range -60 to +60 degree.\n",
    "For example, you can generate 1000 noise cubes of size 64x64x64 in your filefolder *./noise64* using 20 cpus with default settings:\n"
   ]
  },
  {
   "cell_type": "code",
   "execution_count": null,
   "metadata": {},
   "outputs": [
    {
     "name": "stdout",
     "output_type": "stream",
     "text": [
      "1\r\n"
     ]
    }
   ],
   "source": [
    "!mwr3D_noise_generator ./noise64 1000 --cubesize 64 --ncpus 20\n"
   ]
  }
 ],
 "metadata": {
  "kernelspec": {
   "display_name": "Python 3",
   "language": "python",
   "name": "python3"
  },
  "language_info": {
   "codemirror_mode": {
    "name": "ipython",
    "version": 3
   },
   "file_extension": ".py",
   "mimetype": "text/x-python",
   "name": "python",
   "nbconvert_exporter": "python",
   "pygments_lexer": "ipython3",
   "version": "3.6.5"
  }
 },
 "nbformat": 4,
 "nbformat_minor": 2
}
