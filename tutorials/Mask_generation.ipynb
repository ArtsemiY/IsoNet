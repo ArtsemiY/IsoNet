{
 "cells": [
  {
   "cell_type": "markdown",
   "metadata": {},
   "source": [
    "## Mask Generation\n",
    "In order to generate sub-tomogram to feed the neural network, the subtomogram are randomly sampled through the tomogram. However, a large portion ofof the tomogram might lack of information. To exclude the areas that devoid of sample, we appily a binary mask to eaxh tomogram. Sub_tomogram can only be extracted inside the mask.\n",
    "\n",
    "Two types of mask are implemented in the mask generation protocol: max value mask and standard devation mask.\n",
    "\n",
    "If your data is a celluar tomograms, from which most places are covered with proteins, organielles, etc. You may want a mask that contains most of those information. However, the Z size is often larger tham the sample thickness. Thus, the planes at high or low z could contain less information. The pixel values in those place have relatively lower standard devation. You can exclude to those areas with standard devation mask.\n",
    "\n",
    "If your sample idistributed sparcely in the  tomograms,such as thesamples of purified proteins or virus. A lot of areas in the tomograms contains only ice. In those areas, the mean values of pixels are relatively smaller (brighter). To exclude those areas,  max value mask should be used.\n",
    "\n",
    "In real cases, you may combine these two types of mask by tuning the parameters for the maks_mask command as follows.\n",
    "\n",
    "You can still get a reasonable result without a mask, but the mask will inprove the promancce subtaintially especially you have sparcely distributed samples.\n",
    "\n",
    "\n"
   ]
  },
  {
   "cell_type": "code",
   "execution_count": 2,
   "metadata": {},
   "outputs": [
    {
     "name": "stderr",
     "output_type": "stream",
     "text": [
      "INFO: Showing help with the command 'mwr_cli.py make_mask -- --help'.\n",
      "\n",
      "\u001b[1mNAME\u001b[0m\n",
      "    mwr_cli.py make_mask - generate a mask to constrain sampling area of the tomogram\n",
      "\n",
      "\u001b[1mSYNOPSIS\u001b[0m\n",
      "    mwr_cli.py make_mask \u001b[4mTOMO_PATH\u001b[0m \u001b[4mMASK_NAME\u001b[0m <flags>\n",
      "\n",
      "\u001b[1mDESCRIPTION\u001b[0m\n",
      "    generate a mask to constrain sampling area of the tomogram\n",
      "\n",
      "\u001b[1mPOSITIONAL ARGUMENTS\u001b[0m\n",
      "    \u001b[1m\u001b[4mTOMO_PATH\u001b[0m\u001b[0m\n",
      "        path to the tomogram\n",
      "    \u001b[1m\u001b[4mMASK_NAME\u001b[0m\u001b[0m\n",
      "        path and name of the mask to save as\n",
      "\n",
      "\u001b[1mFLAGS\u001b[0m\n",
      "    --side=\u001b[4mSIDE\u001b[0m\n",
      "    --percentile=\u001b[4mPERCENTILE\u001b[0m\n",
      "    --threshold=\u001b[4mTHRESHOLD\u001b[0m\n",
      "\n",
      "\u001b[1mNOTES\u001b[0m\n",
      "    You can also use flags syntax for POSITIONAL ARGUMENTS\n"
     ]
    }
   ],
   "source": [
    "%%bash\n",
    "mwr_cli.py make_mask -h"
   ]
  },
  {
   "cell_type": "code",
   "execution_count": null,
   "metadata": {},
   "outputs": [],
   "source": []
  }
 ],
 "metadata": {
  "kernelspec": {
   "display_name": "Python 3",
   "language": "python",
   "name": "python3"
  },
  "language_info": {
   "codemirror_mode": {
    "name": "ipython",
    "version": 3
   },
   "file_extension": ".py",
   "mimetype": "text/x-python",
   "name": "python",
   "nbconvert_exporter": "python",
   "pygments_lexer": "ipython3",
   "version": "3.6.5"
  }
 },
 "nbformat": 4,
 "nbformat_minor": 2
}
