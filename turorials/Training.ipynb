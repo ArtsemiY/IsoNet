{
 "cells": [
  {
   "cell_type": "markdown",
   "metadata": {},
   "source": [
    " This is a step-by-step tutorial of the training in MWR. \n",
    " \n",
    "## Example data \n",
    "The tutorial dataset is an 3D cryo electron tomogram of a hippocampal neuronal synapse (1). The tomogram was reconstructed using weight back projection.\n",
    " \n",
    " \n",
    "The turorial data can be downloaded from https://drive.google.com/drive/folders/1wdO4NozmWMA7bPa-RTfzrZRgAmKwTcR3?usp=sharing\n",
    "\n",
    "When you open the pp676-bin4-wbp.rec file in xyz view in IMOD, you may see what similar to the following images. The 3D volume is a bit noisy and the quality is worse in yz and xz plane.\n",
    " \n",
    "![](./images/origional_data.png)\n",
    "\n",
    "## prepare your settings\n",
    "\n",
    "\n",
    "\n",
    "## Advanced parameters\n",
    "\n",
    "\n",
    "\n",
    "\n",
    "\n",
    "\n",
    " \n",
    "*1 Tao, C. L. et al. Differentiation and Characterization of Excitatory and Inhibitory Synapses by Cryo-electron Tomography and Correlative Microscopy. J Neurosci 38, 1493-1510, doi:10.1523/JNEUROSCI.1548-17.2017 (2018).*"
   ]
  },
  {
   "cell_type": "markdown",
   "metadata": {},
   "source": [
    "## mwr_cli.py\n",
    "options: makemask, genenoise, train and predict"
   ]
  },
  {
   "cell_type": "markdown",
   "metadata": {},
   "source": [
    "### Generate mask"
   ]
  },
  {
   "cell_type": "code",
   "execution_count": 12,
   "metadata": {},
   "outputs": [
    {
     "name": "stdout",
     "output_type": "stream",
     "text": [
      "mask generated\n"
     ]
    }
   ],
   "source": [
    "%%bash\n",
    "mwr_cli.py makemask ./pp676-bin2-wbp.rec ./pp676-bin2-mask.rec"
   ]
  },
  {
   "cell_type": "markdown",
   "metadata": {},
   "source": [
    "### Generate training noise"
   ]
  },
  {
   "cell_type": "code",
   "execution_count": 14,
   "metadata": {},
   "outputs": [
    {
     "name": "stdout",
     "output_type": "stream",
     "text": [
      "noise generated \n"
     ]
    }
   ],
   "source": [
    "%%bash\n",
    "mwr_cli.py genenoise ./noise64 1000 64 \n"
   ]
  },
  {
   "cell_type": "markdown",
   "metadata": {},
   "source": [
    "### Training"
   ]
  },
  {
   "cell_type": "code",
   "execution_count": 15,
   "metadata": {
    "scrolled": true
   },
   "outputs": [
    {
     "name": "stdout",
     "output_type": "stream",
     "text": [
      "training\n"
     ]
    }
   ],
   "source": [
    "%%bash\n",
    "mwr_cli.py train ./pp676-bin2-wbp.rec "
   ]
  },
  {
   "cell_type": "markdown",
   "metadata": {},
   "source": [
    "### Predicting"
   ]
  },
  {
   "cell_type": "code",
   "execution_count": 16,
   "metadata": {},
   "outputs": [
    {
     "name": "stdout",
     "output_type": "stream",
     "text": [
      "successfully predicted\n"
     ]
    }
   ],
   "source": [
    "%%bash\n",
    "mwr_cli.py predict ./pp676-bin2-wbp.rec pp676-bin2-wbp-iter40.rec 2 ./results/modellast.h5"
   ]
  },
  {
   "cell_type": "code",
   "execution_count": null,
   "metadata": {},
   "outputs": [],
   "source": []
  }
 ],
 "metadata": {
  "kernelspec": {
   "display_name": "Python 3",
   "language": "python",
   "name": "python3"
  },
  "language_info": {
   "codemirror_mode": {
    "name": "ipython",
    "version": 3
   },
   "file_extension": ".py",
   "mimetype": "text/x-python",
   "name": "python",
   "nbconvert_exporter": "python",
   "pygments_lexer": "ipython3",
   "version": "3.6.5"
  }
 },
 "nbformat": 4,
 "nbformat_minor": 2
}
