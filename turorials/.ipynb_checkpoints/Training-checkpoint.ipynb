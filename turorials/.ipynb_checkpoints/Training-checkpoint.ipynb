{
 "cells": [
  {
   "attachments": {},
   "cell_type": "markdown",
   "metadata": {},
   "source": [
    " This is a step-by-step tutorial of the training in MWR. \n",
    " \n",
    "## Example data \n",
    "The tutorial dataset is an 3D cryo electron tomogram of a hippocampal neuronal synapse (1). The tomogram was reconstructed using weight back projection.\n",
    " \n",
    " \n",
    "The turorial data can be downloaded from https://drive.google.com/drive/folders/1wdO4NozmWMA7bPa-RTfzrZRgAmKwTcR3?usp=sharing\n",
    "\n",
    "When you open the pp676-bin4-wbp.rec file in xyz view in IMOD, you may see what similar to the following images. The 3D volume is a bit noisy and the quality is worse in yz and xz plane.\n",
    " \n",
    "![image.png](./images/origional_data.png)\n",
    "\n",
    "## prepare your settings\n",
    "\n",
    "\n",
    "\n",
    "## Advanced parameters\n",
    "\n",
    "\n",
    "\n",
    "\n",
    "\n",
    "\n",
    " \n",
    "*1 Tao, C. L. et al. Differentiation and Characterization of Excitatory and Inhibitory Synapses by Cryo-electron Tomography and Correlative Microscopy. J Neurosci 38, 1493-1510, doi:10.1523/JNEUROSCI.1548-17.2017 (2018).*"
   ]
  }
 ],
 "metadata": {
  "kernelspec": {
   "display_name": "Python 3",
   "language": "python",
   "name": "python3"
  },
  "language_info": {
   "codemirror_mode": {
    "name": "ipython",
    "version": 3
   },
   "file_extension": ".py",
   "mimetype": "text/x-python",
   "name": "python",
   "nbconvert_exporter": "python",
   "pygments_lexer": "ipython3",
   "version": "3.7.4"
  }
 },
 "nbformat": 4,
 "nbformat_minor": 2
}
